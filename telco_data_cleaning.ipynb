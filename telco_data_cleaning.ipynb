{
 "cells": [
  {
   "cell_type": "code",
   "execution_count": 1,
   "metadata": {},
   "outputs": [],
   "source": [
    "import numpy as np\n",
    "import pandas as pd\n",
    "import seaborn as sns\n",
    "import matplotlib.pyplot as plt\n",
    "import statsmodels.formula.api as smf\n",
    "\n",
    "from scipy import stats\n",
    "from sklearn.metrics import accuracy_score, precision_score, recall_score, confusion_matrix, classification_report\n",
    "from sklearn.model_selection import train_test_split\n",
    "from sklearn.linear_model import LogisticRegression, LinearRegression\n",
    "from sklearn.tree import DecisionTreeClassifier\n",
    "from sklearn.ensemble import RandomForestClassifier\n",
    "from sklearn.neighbors import KNeighborsClassifier\n",
    "\n",
    "from acquire import get_telco_data\n",
    "#from prepare import prep_titanic\n",
    "import warnings\n",
    "warnings.filterwarnings(\"ignore\")"
   ]
  },
  {
   "cell_type": "code",
   "execution_count": 2,
   "metadata": {},
   "outputs": [
    {
     "data": {
      "text/html": [
       "<div>\n",
       "<style scoped>\n",
       "    .dataframe tbody tr th:only-of-type {\n",
       "        vertical-align: middle;\n",
       "    }\n",
       "\n",
       "    .dataframe tbody tr th {\n",
       "        vertical-align: top;\n",
       "    }\n",
       "\n",
       "    .dataframe thead th {\n",
       "        text-align: right;\n",
       "    }\n",
       "</style>\n",
       "<table border=\"1\" class=\"dataframe\">\n",
       "  <thead>\n",
       "    <tr style=\"text-align: right;\">\n",
       "      <th></th>\n",
       "      <th>customer_id</th>\n",
       "      <th>gender</th>\n",
       "      <th>senior_citizen</th>\n",
       "      <th>partner</th>\n",
       "      <th>dependents</th>\n",
       "      <th>tenure</th>\n",
       "      <th>phone_service</th>\n",
       "      <th>multiple_lines</th>\n",
       "      <th>internet_service_type_id</th>\n",
       "      <th>online_security</th>\n",
       "      <th>...</th>\n",
       "      <th>payment_type_id</th>\n",
       "      <th>monthly_charges</th>\n",
       "      <th>total_charges</th>\n",
       "      <th>churn</th>\n",
       "      <th>contract_type_id</th>\n",
       "      <th>contract_type</th>\n",
       "      <th>internet_service_type_id</th>\n",
       "      <th>internet_service_type</th>\n",
       "      <th>payment_type_id</th>\n",
       "      <th>payment_type</th>\n",
       "    </tr>\n",
       "  </thead>\n",
       "  <tbody>\n",
       "    <tr>\n",
       "      <th>0</th>\n",
       "      <td>0003-MKNFE</td>\n",
       "      <td>Male</td>\n",
       "      <td>0</td>\n",
       "      <td>No</td>\n",
       "      <td>No</td>\n",
       "      <td>9</td>\n",
       "      <td>Yes</td>\n",
       "      <td>Yes</td>\n",
       "      <td>1</td>\n",
       "      <td>No</td>\n",
       "      <td>...</td>\n",
       "      <td>2</td>\n",
       "      <td>59.9</td>\n",
       "      <td>542.4</td>\n",
       "      <td>No</td>\n",
       "      <td>1</td>\n",
       "      <td>Month-to-month</td>\n",
       "      <td>1</td>\n",
       "      <td>DSL</td>\n",
       "      <td>2</td>\n",
       "      <td>Mailed check</td>\n",
       "    </tr>\n",
       "    <tr>\n",
       "      <th>1</th>\n",
       "      <td>0013-MHZWF</td>\n",
       "      <td>Female</td>\n",
       "      <td>0</td>\n",
       "      <td>No</td>\n",
       "      <td>Yes</td>\n",
       "      <td>9</td>\n",
       "      <td>Yes</td>\n",
       "      <td>No</td>\n",
       "      <td>1</td>\n",
       "      <td>No</td>\n",
       "      <td>...</td>\n",
       "      <td>4</td>\n",
       "      <td>69.4</td>\n",
       "      <td>571.45</td>\n",
       "      <td>No</td>\n",
       "      <td>1</td>\n",
       "      <td>Month-to-month</td>\n",
       "      <td>1</td>\n",
       "      <td>DSL</td>\n",
       "      <td>4</td>\n",
       "      <td>Credit card (automatic)</td>\n",
       "    </tr>\n",
       "    <tr>\n",
       "      <th>2</th>\n",
       "      <td>0015-UOCOJ</td>\n",
       "      <td>Female</td>\n",
       "      <td>1</td>\n",
       "      <td>No</td>\n",
       "      <td>No</td>\n",
       "      <td>7</td>\n",
       "      <td>Yes</td>\n",
       "      <td>No</td>\n",
       "      <td>1</td>\n",
       "      <td>Yes</td>\n",
       "      <td>...</td>\n",
       "      <td>1</td>\n",
       "      <td>48.2</td>\n",
       "      <td>340.35</td>\n",
       "      <td>No</td>\n",
       "      <td>1</td>\n",
       "      <td>Month-to-month</td>\n",
       "      <td>1</td>\n",
       "      <td>DSL</td>\n",
       "      <td>1</td>\n",
       "      <td>Electronic check</td>\n",
       "    </tr>\n",
       "    <tr>\n",
       "      <th>3</th>\n",
       "      <td>0023-HGHWL</td>\n",
       "      <td>Male</td>\n",
       "      <td>1</td>\n",
       "      <td>No</td>\n",
       "      <td>No</td>\n",
       "      <td>1</td>\n",
       "      <td>No</td>\n",
       "      <td>No phone service</td>\n",
       "      <td>1</td>\n",
       "      <td>No</td>\n",
       "      <td>...</td>\n",
       "      <td>1</td>\n",
       "      <td>25.1</td>\n",
       "      <td>25.1</td>\n",
       "      <td>Yes</td>\n",
       "      <td>1</td>\n",
       "      <td>Month-to-month</td>\n",
       "      <td>1</td>\n",
       "      <td>DSL</td>\n",
       "      <td>1</td>\n",
       "      <td>Electronic check</td>\n",
       "    </tr>\n",
       "    <tr>\n",
       "      <th>4</th>\n",
       "      <td>0032-PGELS</td>\n",
       "      <td>Female</td>\n",
       "      <td>0</td>\n",
       "      <td>Yes</td>\n",
       "      <td>Yes</td>\n",
       "      <td>1</td>\n",
       "      <td>No</td>\n",
       "      <td>No phone service</td>\n",
       "      <td>1</td>\n",
       "      <td>Yes</td>\n",
       "      <td>...</td>\n",
       "      <td>3</td>\n",
       "      <td>30.5</td>\n",
       "      <td>30.5</td>\n",
       "      <td>Yes</td>\n",
       "      <td>1</td>\n",
       "      <td>Month-to-month</td>\n",
       "      <td>1</td>\n",
       "      <td>DSL</td>\n",
       "      <td>3</td>\n",
       "      <td>Bank transfer (automatic)</td>\n",
       "    </tr>\n",
       "  </tbody>\n",
       "</table>\n",
       "<p>5 rows × 27 columns</p>\n",
       "</div>"
      ],
      "text/plain": [
       "  customer_id  gender  senior_citizen partner dependents  tenure  \\\n",
       "0  0003-MKNFE    Male               0      No         No       9   \n",
       "1  0013-MHZWF  Female               0      No        Yes       9   \n",
       "2  0015-UOCOJ  Female               1      No         No       7   \n",
       "3  0023-HGHWL    Male               1      No         No       1   \n",
       "4  0032-PGELS  Female               0     Yes        Yes       1   \n",
       "\n",
       "  phone_service    multiple_lines internet_service_type_id online_security  \\\n",
       "0           Yes               Yes                        1              No   \n",
       "1           Yes                No                        1              No   \n",
       "2           Yes                No                        1             Yes   \n",
       "3            No  No phone service                        1              No   \n",
       "4            No  No phone service                        1             Yes   \n",
       "\n",
       "   ...  payment_type_id monthly_charges total_charges churn contract_type_id  \\\n",
       "0  ...                2            59.9         542.4    No                1   \n",
       "1  ...                4            69.4        571.45    No                1   \n",
       "2  ...                1            48.2        340.35    No                1   \n",
       "3  ...                1            25.1          25.1   Yes                1   \n",
       "4  ...                3            30.5          30.5   Yes                1   \n",
       "\n",
       "    contract_type internet_service_type_id  internet_service_type  \\\n",
       "0  Month-to-month                        1                    DSL   \n",
       "1  Month-to-month                        1                    DSL   \n",
       "2  Month-to-month                        1                    DSL   \n",
       "3  Month-to-month                        1                    DSL   \n",
       "4  Month-to-month                        1                    DSL   \n",
       "\n",
       "   payment_type_id               payment_type  \n",
       "0                2               Mailed check  \n",
       "1                4    Credit card (automatic)  \n",
       "2                1           Electronic check  \n",
       "3                1           Electronic check  \n",
       "4                3  Bank transfer (automatic)  \n",
       "\n",
       "[5 rows x 27 columns]"
      ]
     },
     "execution_count": 2,
     "metadata": {},
     "output_type": "execute_result"
    }
   ],
   "source": [
    "# Aqcuiring data\n",
    "df = get_telco_data()\n",
    "df.head()"
   ]
  },
  {
   "cell_type": "code",
   "execution_count": 3,
   "metadata": {},
   "outputs": [
    {
     "data": {
      "text/plain": [
       "(7043, 27)"
      ]
     },
     "execution_count": 3,
     "metadata": {},
     "output_type": "execute_result"
    }
   ],
   "source": [
    "# We have 7043 rows andf 27 columns of data\n",
    "df.shape"
   ]
  },
  {
   "cell_type": "code",
   "execution_count": 4,
   "metadata": {},
   "outputs": [
    {
     "name": "stdout",
     "output_type": "stream",
     "text": [
      "<class 'pandas.core.frame.DataFrame'>\n",
      "RangeIndex: 7043 entries, 0 to 7042\n",
      "Data columns (total 27 columns):\n",
      " #   Column                    Non-Null Count  Dtype  \n",
      "---  ------                    --------------  -----  \n",
      " 0   customer_id               7043 non-null   object \n",
      " 1   gender                    7043 non-null   object \n",
      " 2   senior_citizen            7043 non-null   int64  \n",
      " 3   partner                   7043 non-null   object \n",
      " 4   dependents                7043 non-null   object \n",
      " 5   tenure                    7043 non-null   int64  \n",
      " 6   phone_service             7043 non-null   object \n",
      " 7   multiple_lines            7043 non-null   object \n",
      " 8   internet_service_type_id  7043 non-null   int64  \n",
      " 9   online_security           7043 non-null   object \n",
      " 10  online_backup             7043 non-null   object \n",
      " 11  device_protection         7043 non-null   object \n",
      " 12  tech_support              7043 non-null   object \n",
      " 13  streaming_tv              7043 non-null   object \n",
      " 14  streaming_movies          7043 non-null   object \n",
      " 15  contract_type_id          7043 non-null   int64  \n",
      " 16  paperless_billing         7043 non-null   object \n",
      " 17  payment_type_id           7043 non-null   int64  \n",
      " 18  monthly_charges           7043 non-null   float64\n",
      " 19  total_charges             7043 non-null   object \n",
      " 20  churn                     7043 non-null   object \n",
      " 21  contract_type_id          7043 non-null   int64  \n",
      " 22  contract_type             7043 non-null   object \n",
      " 23  internet_service_type_id  7043 non-null   int64  \n",
      " 24  internet_service_type     7043 non-null   object \n",
      " 25  payment_type_id           7043 non-null   int64  \n",
      " 26  payment_type              7043 non-null   object \n",
      "dtypes: float64(1), int64(8), object(18)\n",
      "memory usage: 1.5+ MB\n"
     ]
    }
   ],
   "source": [
    "# We have no nulls. Data types, 1 float, 8 int, and 18 object.\n",
    "df.info()"
   ]
  },
  {
   "cell_type": "code",
   "execution_count": 5,
   "metadata": {},
   "outputs": [
    {
     "data": {
      "text/html": [
       "<div>\n",
       "<style scoped>\n",
       "    .dataframe tbody tr th:only-of-type {\n",
       "        vertical-align: middle;\n",
       "    }\n",
       "\n",
       "    .dataframe tbody tr th {\n",
       "        vertical-align: top;\n",
       "    }\n",
       "\n",
       "    .dataframe thead th {\n",
       "        text-align: right;\n",
       "    }\n",
       "</style>\n",
       "<table border=\"1\" class=\"dataframe\">\n",
       "  <thead>\n",
       "    <tr style=\"text-align: right;\">\n",
       "      <th></th>\n",
       "      <th>senior_citizen</th>\n",
       "      <th>tenure</th>\n",
       "      <th>internet_service_type_id</th>\n",
       "      <th>contract_type_id</th>\n",
       "      <th>payment_type_id</th>\n",
       "      <th>monthly_charges</th>\n",
       "      <th>contract_type_id</th>\n",
       "      <th>internet_service_type_id</th>\n",
       "      <th>payment_type_id</th>\n",
       "    </tr>\n",
       "  </thead>\n",
       "  <tbody>\n",
       "    <tr>\n",
       "      <th>count</th>\n",
       "      <td>7043.000000</td>\n",
       "      <td>7043.000000</td>\n",
       "      <td>7043.000000</td>\n",
       "      <td>7043.000000</td>\n",
       "      <td>7043.000000</td>\n",
       "      <td>7043.000000</td>\n",
       "      <td>7043.000000</td>\n",
       "      <td>7043.000000</td>\n",
       "      <td>7043.000000</td>\n",
       "    </tr>\n",
       "    <tr>\n",
       "      <th>mean</th>\n",
       "      <td>0.162147</td>\n",
       "      <td>32.371149</td>\n",
       "      <td>1.872923</td>\n",
       "      <td>1.690473</td>\n",
       "      <td>2.315633</td>\n",
       "      <td>64.761692</td>\n",
       "      <td>1.690473</td>\n",
       "      <td>1.872923</td>\n",
       "      <td>2.315633</td>\n",
       "    </tr>\n",
       "    <tr>\n",
       "      <th>std</th>\n",
       "      <td>0.368612</td>\n",
       "      <td>24.559481</td>\n",
       "      <td>0.737796</td>\n",
       "      <td>0.833755</td>\n",
       "      <td>1.148907</td>\n",
       "      <td>30.090047</td>\n",
       "      <td>0.833755</td>\n",
       "      <td>0.737796</td>\n",
       "      <td>1.148907</td>\n",
       "    </tr>\n",
       "    <tr>\n",
       "      <th>min</th>\n",
       "      <td>0.000000</td>\n",
       "      <td>0.000000</td>\n",
       "      <td>1.000000</td>\n",
       "      <td>1.000000</td>\n",
       "      <td>1.000000</td>\n",
       "      <td>18.250000</td>\n",
       "      <td>1.000000</td>\n",
       "      <td>1.000000</td>\n",
       "      <td>1.000000</td>\n",
       "    </tr>\n",
       "    <tr>\n",
       "      <th>25%</th>\n",
       "      <td>0.000000</td>\n",
       "      <td>9.000000</td>\n",
       "      <td>1.000000</td>\n",
       "      <td>1.000000</td>\n",
       "      <td>1.000000</td>\n",
       "      <td>35.500000</td>\n",
       "      <td>1.000000</td>\n",
       "      <td>1.000000</td>\n",
       "      <td>1.000000</td>\n",
       "    </tr>\n",
       "    <tr>\n",
       "      <th>50%</th>\n",
       "      <td>0.000000</td>\n",
       "      <td>29.000000</td>\n",
       "      <td>2.000000</td>\n",
       "      <td>1.000000</td>\n",
       "      <td>2.000000</td>\n",
       "      <td>70.350000</td>\n",
       "      <td>1.000000</td>\n",
       "      <td>2.000000</td>\n",
       "      <td>2.000000</td>\n",
       "    </tr>\n",
       "    <tr>\n",
       "      <th>75%</th>\n",
       "      <td>0.000000</td>\n",
       "      <td>55.000000</td>\n",
       "      <td>2.000000</td>\n",
       "      <td>2.000000</td>\n",
       "      <td>3.000000</td>\n",
       "      <td>89.850000</td>\n",
       "      <td>2.000000</td>\n",
       "      <td>2.000000</td>\n",
       "      <td>3.000000</td>\n",
       "    </tr>\n",
       "    <tr>\n",
       "      <th>max</th>\n",
       "      <td>1.000000</td>\n",
       "      <td>72.000000</td>\n",
       "      <td>3.000000</td>\n",
       "      <td>3.000000</td>\n",
       "      <td>4.000000</td>\n",
       "      <td>118.750000</td>\n",
       "      <td>3.000000</td>\n",
       "      <td>3.000000</td>\n",
       "      <td>4.000000</td>\n",
       "    </tr>\n",
       "  </tbody>\n",
       "</table>\n",
       "</div>"
      ],
      "text/plain": [
       "       senior_citizen       tenure  internet_service_type_id  \\\n",
       "count     7043.000000  7043.000000               7043.000000   \n",
       "mean         0.162147    32.371149                  1.872923   \n",
       "std          0.368612    24.559481                  0.737796   \n",
       "min          0.000000     0.000000                  1.000000   \n",
       "25%          0.000000     9.000000                  1.000000   \n",
       "50%          0.000000    29.000000                  2.000000   \n",
       "75%          0.000000    55.000000                  2.000000   \n",
       "max          1.000000    72.000000                  3.000000   \n",
       "\n",
       "       contract_type_id  payment_type_id  monthly_charges  contract_type_id  \\\n",
       "count       7043.000000      7043.000000      7043.000000       7043.000000   \n",
       "mean           1.690473         2.315633        64.761692          1.690473   \n",
       "std            0.833755         1.148907        30.090047          0.833755   \n",
       "min            1.000000         1.000000        18.250000          1.000000   \n",
       "25%            1.000000         1.000000        35.500000          1.000000   \n",
       "50%            1.000000         2.000000        70.350000          1.000000   \n",
       "75%            2.000000         3.000000        89.850000          2.000000   \n",
       "max            3.000000         4.000000       118.750000          3.000000   \n",
       "\n",
       "       internet_service_type_id  payment_type_id  \n",
       "count               7043.000000      7043.000000  \n",
       "mean                   1.872923         2.315633  \n",
       "std                    0.737796         1.148907  \n",
       "min                    1.000000         1.000000  \n",
       "25%                    1.000000         1.000000  \n",
       "50%                    2.000000         2.000000  \n",
       "75%                    2.000000         3.000000  \n",
       "max                    3.000000         4.000000  "
      ]
     },
     "execution_count": 5,
     "metadata": {},
     "output_type": "execute_result"
    }
   ],
   "source": [
    "# Looking at a summary of statisics\n",
    "df.describe()"
   ]
  },
  {
   "cell_type": "code",
   "execution_count": 6,
   "metadata": {},
   "outputs": [
    {
     "data": {
      "text/html": [
       "<div>\n",
       "<style scoped>\n",
       "    .dataframe tbody tr th:only-of-type {\n",
       "        vertical-align: middle;\n",
       "    }\n",
       "\n",
       "    .dataframe tbody tr th {\n",
       "        vertical-align: top;\n",
       "    }\n",
       "\n",
       "    .dataframe thead th {\n",
       "        text-align: right;\n",
       "    }\n",
       "</style>\n",
       "<table border=\"1\" class=\"dataframe\">\n",
       "  <thead>\n",
       "    <tr style=\"text-align: right;\">\n",
       "      <th></th>\n",
       "      <th>customer_id</th>\n",
       "      <th>gender</th>\n",
       "      <th>senior_citizen</th>\n",
       "      <th>partner</th>\n",
       "      <th>dependents</th>\n",
       "      <th>tenure</th>\n",
       "      <th>phone_service</th>\n",
       "      <th>multiple_lines</th>\n",
       "      <th>internet_service_type_id</th>\n",
       "      <th>online_security</th>\n",
       "      <th>...</th>\n",
       "      <th>payment_type_id</th>\n",
       "      <th>monthly_charges</th>\n",
       "      <th>total_charges</th>\n",
       "      <th>churn</th>\n",
       "      <th>contract_type_id</th>\n",
       "      <th>contract_type</th>\n",
       "      <th>internet_service_type_id</th>\n",
       "      <th>internet_service_type</th>\n",
       "      <th>payment_type_id</th>\n",
       "      <th>payment_type</th>\n",
       "    </tr>\n",
       "  </thead>\n",
       "  <tbody>\n",
       "    <tr>\n",
       "      <th>1923</th>\n",
       "      <td>2251-PYLPB</td>\n",
       "      <td>Male</td>\n",
       "      <td>0</td>\n",
       "      <td>Yes</td>\n",
       "      <td>No</td>\n",
       "      <td>72</td>\n",
       "      <td>Yes</td>\n",
       "      <td>Yes</td>\n",
       "      <td>1</td>\n",
       "      <td>Yes</td>\n",
       "      <td>...</td>\n",
       "      <td>4</td>\n",
       "      <td>79.55</td>\n",
       "      <td>5810.9</td>\n",
       "      <td>No</td>\n",
       "      <td>3</td>\n",
       "      <td>Two year</td>\n",
       "      <td>1</td>\n",
       "      <td>DSL</td>\n",
       "      <td>4</td>\n",
       "      <td>Credit card (automatic)</td>\n",
       "    </tr>\n",
       "    <tr>\n",
       "      <th>1919</th>\n",
       "      <td>2226-ICFDO</td>\n",
       "      <td>Female</td>\n",
       "      <td>0</td>\n",
       "      <td>Yes</td>\n",
       "      <td>Yes</td>\n",
       "      <td>72</td>\n",
       "      <td>Yes</td>\n",
       "      <td>Yes</td>\n",
       "      <td>1</td>\n",
       "      <td>Yes</td>\n",
       "      <td>...</td>\n",
       "      <td>4</td>\n",
       "      <td>85.90</td>\n",
       "      <td>6110.75</td>\n",
       "      <td>No</td>\n",
       "      <td>3</td>\n",
       "      <td>Two year</td>\n",
       "      <td>1</td>\n",
       "      <td>DSL</td>\n",
       "      <td>4</td>\n",
       "      <td>Credit card (automatic)</td>\n",
       "    </tr>\n",
       "    <tr>\n",
       "      <th>1921</th>\n",
       "      <td>2235-EZAIK</td>\n",
       "      <td>Female</td>\n",
       "      <td>0</td>\n",
       "      <td>Yes</td>\n",
       "      <td>No</td>\n",
       "      <td>72</td>\n",
       "      <td>Yes</td>\n",
       "      <td>Yes</td>\n",
       "      <td>1</td>\n",
       "      <td>Yes</td>\n",
       "      <td>...</td>\n",
       "      <td>4</td>\n",
       "      <td>79.20</td>\n",
       "      <td>5401.9</td>\n",
       "      <td>No</td>\n",
       "      <td>3</td>\n",
       "      <td>Two year</td>\n",
       "      <td>1</td>\n",
       "      <td>DSL</td>\n",
       "      <td>4</td>\n",
       "      <td>Credit card (automatic)</td>\n",
       "    </tr>\n",
       "    <tr>\n",
       "      <th>6446</th>\n",
       "      <td>0640-YJTPY</td>\n",
       "      <td>Male</td>\n",
       "      <td>0</td>\n",
       "      <td>Yes</td>\n",
       "      <td>Yes</td>\n",
       "      <td>72</td>\n",
       "      <td>Yes</td>\n",
       "      <td>No</td>\n",
       "      <td>3</td>\n",
       "      <td>No internet service</td>\n",
       "      <td>...</td>\n",
       "      <td>3</td>\n",
       "      <td>21.00</td>\n",
       "      <td>1493.75</td>\n",
       "      <td>No</td>\n",
       "      <td>3</td>\n",
       "      <td>Two year</td>\n",
       "      <td>3</td>\n",
       "      <td>None</td>\n",
       "      <td>3</td>\n",
       "      <td>Bank transfer (automatic)</td>\n",
       "    </tr>\n",
       "    <tr>\n",
       "      <th>1927</th>\n",
       "      <td>2274-XUATA</td>\n",
       "      <td>Male</td>\n",
       "      <td>1</td>\n",
       "      <td>Yes</td>\n",
       "      <td>No</td>\n",
       "      <td>72</td>\n",
       "      <td>No</td>\n",
       "      <td>No phone service</td>\n",
       "      <td>1</td>\n",
       "      <td>Yes</td>\n",
       "      <td>...</td>\n",
       "      <td>3</td>\n",
       "      <td>63.10</td>\n",
       "      <td>4685.55</td>\n",
       "      <td>No</td>\n",
       "      <td>3</td>\n",
       "      <td>Two year</td>\n",
       "      <td>1</td>\n",
       "      <td>DSL</td>\n",
       "      <td>3</td>\n",
       "      <td>Bank transfer (automatic)</td>\n",
       "    </tr>\n",
       "  </tbody>\n",
       "</table>\n",
       "<p>5 rows × 27 columns</p>\n",
       "</div>"
      ],
      "text/plain": [
       "     customer_id  gender  senior_citizen partner dependents  tenure  \\\n",
       "1923  2251-PYLPB    Male               0     Yes         No      72   \n",
       "1919  2226-ICFDO  Female               0     Yes        Yes      72   \n",
       "1921  2235-EZAIK  Female               0     Yes         No      72   \n",
       "6446  0640-YJTPY    Male               0     Yes        Yes      72   \n",
       "1927  2274-XUATA    Male               1     Yes         No      72   \n",
       "\n",
       "     phone_service    multiple_lines internet_service_type_id  \\\n",
       "1923           Yes               Yes                        1   \n",
       "1919           Yes               Yes                        1   \n",
       "1921           Yes               Yes                        1   \n",
       "6446           Yes                No                        3   \n",
       "1927            No  No phone service                        1   \n",
       "\n",
       "          online_security  ...  payment_type_id monthly_charges total_charges  \\\n",
       "1923                  Yes  ...                4           79.55        5810.9   \n",
       "1919                  Yes  ...                4           85.90       6110.75   \n",
       "1921                  Yes  ...                4           79.20        5401.9   \n",
       "6446  No internet service  ...                3           21.00       1493.75   \n",
       "1927                  Yes  ...                3           63.10       4685.55   \n",
       "\n",
       "     churn contract_type_id  contract_type internet_service_type_id  \\\n",
       "1923    No                3       Two year                        1   \n",
       "1919    No                3       Two year                        1   \n",
       "1921    No                3       Two year                        1   \n",
       "6446    No                3       Two year                        3   \n",
       "1927    No                3       Two year                        1   \n",
       "\n",
       "      internet_service_type  payment_type_id               payment_type  \n",
       "1923                    DSL                4    Credit card (automatic)  \n",
       "1919                    DSL                4    Credit card (automatic)  \n",
       "1921                    DSL                4    Credit card (automatic)  \n",
       "6446                   None                3  Bank transfer (automatic)  \n",
       "1927                    DSL                3  Bank transfer (automatic)  \n",
       "\n",
       "[5 rows x 27 columns]"
      ]
     },
     "execution_count": 6,
     "metadata": {},
     "output_type": "execute_result"
    }
   ],
   "source": [
    "# Seeing that max tenure is 72 months and min is 0\n",
    "df.sort_values('tenure', ascending=False).head()"
   ]
  },
  {
   "cell_type": "code",
   "execution_count": 7,
   "metadata": {},
   "outputs": [
    {
     "data": {
      "text/plain": [
       "(7043, 27)"
      ]
     },
     "execution_count": 7,
     "metadata": {},
     "output_type": "execute_result"
    }
   ],
   "source": [
    "# Dropping duplicates if they exist\n",
    "df.drop_duplicates(inplace=True)\n",
    "df.shape"
   ]
  },
  {
   "cell_type": "code",
   "execution_count": 8,
   "metadata": {},
   "outputs": [
    {
     "data": {
      "text/plain": [
       "1    3555\n",
       "0    3488\n",
       "Name: male, dtype: int64"
      ]
     },
     "execution_count": 8,
     "metadata": {},
     "output_type": "execute_result"
    }
   ],
   "source": [
    "# Switching gender column to read male. Keeping track of male and female\n",
    "df.rename(columns={'gender': 'male'}, inplace=True)\n",
    "# Making males have a value of 1 and females 0\n",
    "df['male'] = df['male'].replace(\"Male\", 1)\n",
    "df['male'] = df['male'].replace(\"Female\", 0)\n",
    "df.male.value_counts()"
   ]
  },
  {
   "cell_type": "code",
   "execution_count": 9,
   "metadata": {},
   "outputs": [
    {
     "data": {
      "text/plain": [
       "0    3641\n",
       "1    3402\n",
       "Name: partners, dtype: int64"
      ]
     },
     "execution_count": 9,
     "metadata": {},
     "output_type": "execute_result"
    }
   ],
   "source": [
    "# Switching partner column to read partners. \n",
    "df.rename(columns={'partner': 'partners'}, inplace=True)\n",
    "# Partners have a value yes/no 1/0.\n",
    "df['partners'] = df['partners'].replace(\"Yes\", 1)\n",
    "df['partners'] = df['partners'].replace(\"No\", 0)\n",
    "df.partners.value_counts()"
   ]
  },
  {
   "cell_type": "code",
   "execution_count": 10,
   "metadata": {},
   "outputs": [
    {
     "data": {
      "text/plain": [
       "0    4933\n",
       "1    2110\n",
       "Name: dependents, dtype: int64"
      ]
     },
     "execution_count": 10,
     "metadata": {},
     "output_type": "execute_result"
    }
   ],
   "source": [
    "# Dependents column to read yes/no 1/0.\n",
    "df['dependents'] = df['dependents'].replace(\"Yes\", 1)\n",
    "df['dependents'] = df['dependents'].replace(\"No\", 0)\n",
    "df.dependents.value_counts()"
   ]
  },
  {
   "cell_type": "code",
   "execution_count": 11,
   "metadata": {},
   "outputs": [
    {
     "data": {
      "text/html": [
       "<div>\n",
       "<style scoped>\n",
       "    .dataframe tbody tr th:only-of-type {\n",
       "        vertical-align: middle;\n",
       "    }\n",
       "\n",
       "    .dataframe tbody tr th {\n",
       "        vertical-align: top;\n",
       "    }\n",
       "\n",
       "    .dataframe thead th {\n",
       "        text-align: right;\n",
       "    }\n",
       "</style>\n",
       "<table border=\"1\" class=\"dataframe\">\n",
       "  <thead>\n",
       "    <tr style=\"text-align: right;\">\n",
       "      <th></th>\n",
       "      <th>customer_id</th>\n",
       "      <th>male</th>\n",
       "      <th>senior_citizen</th>\n",
       "      <th>partners</th>\n",
       "      <th>dependents</th>\n",
       "      <th>tenure</th>\n",
       "      <th>phone_service</th>\n",
       "      <th>multiple_lines</th>\n",
       "      <th>internet_service_type_id</th>\n",
       "      <th>online_security</th>\n",
       "      <th>...</th>\n",
       "      <th>payment_type_id</th>\n",
       "      <th>monthly_charges</th>\n",
       "      <th>total_charges</th>\n",
       "      <th>churn</th>\n",
       "      <th>contract_type_id</th>\n",
       "      <th>contract_type</th>\n",
       "      <th>internet_service_type_id</th>\n",
       "      <th>internet_service_type</th>\n",
       "      <th>payment_type_id</th>\n",
       "      <th>payment_type</th>\n",
       "    </tr>\n",
       "  </thead>\n",
       "  <tbody>\n",
       "    <tr>\n",
       "      <th>0</th>\n",
       "      <td>0003-MKNFE</td>\n",
       "      <td>1</td>\n",
       "      <td>0</td>\n",
       "      <td>0</td>\n",
       "      <td>0</td>\n",
       "      <td>9</td>\n",
       "      <td>1</td>\n",
       "      <td>Yes</td>\n",
       "      <td>1</td>\n",
       "      <td>No</td>\n",
       "      <td>...</td>\n",
       "      <td>2</td>\n",
       "      <td>59.9</td>\n",
       "      <td>542.4</td>\n",
       "      <td>No</td>\n",
       "      <td>1</td>\n",
       "      <td>Month-to-month</td>\n",
       "      <td>1</td>\n",
       "      <td>DSL</td>\n",
       "      <td>2</td>\n",
       "      <td>Mailed check</td>\n",
       "    </tr>\n",
       "    <tr>\n",
       "      <th>1</th>\n",
       "      <td>0013-MHZWF</td>\n",
       "      <td>0</td>\n",
       "      <td>0</td>\n",
       "      <td>0</td>\n",
       "      <td>1</td>\n",
       "      <td>9</td>\n",
       "      <td>1</td>\n",
       "      <td>No</td>\n",
       "      <td>1</td>\n",
       "      <td>No</td>\n",
       "      <td>...</td>\n",
       "      <td>4</td>\n",
       "      <td>69.4</td>\n",
       "      <td>571.45</td>\n",
       "      <td>No</td>\n",
       "      <td>1</td>\n",
       "      <td>Month-to-month</td>\n",
       "      <td>1</td>\n",
       "      <td>DSL</td>\n",
       "      <td>4</td>\n",
       "      <td>Credit card (automatic)</td>\n",
       "    </tr>\n",
       "    <tr>\n",
       "      <th>2</th>\n",
       "      <td>0015-UOCOJ</td>\n",
       "      <td>0</td>\n",
       "      <td>1</td>\n",
       "      <td>0</td>\n",
       "      <td>0</td>\n",
       "      <td>7</td>\n",
       "      <td>1</td>\n",
       "      <td>No</td>\n",
       "      <td>1</td>\n",
       "      <td>Yes</td>\n",
       "      <td>...</td>\n",
       "      <td>1</td>\n",
       "      <td>48.2</td>\n",
       "      <td>340.35</td>\n",
       "      <td>No</td>\n",
       "      <td>1</td>\n",
       "      <td>Month-to-month</td>\n",
       "      <td>1</td>\n",
       "      <td>DSL</td>\n",
       "      <td>1</td>\n",
       "      <td>Electronic check</td>\n",
       "    </tr>\n",
       "    <tr>\n",
       "      <th>3</th>\n",
       "      <td>0023-HGHWL</td>\n",
       "      <td>1</td>\n",
       "      <td>1</td>\n",
       "      <td>0</td>\n",
       "      <td>0</td>\n",
       "      <td>1</td>\n",
       "      <td>0</td>\n",
       "      <td>No phone service</td>\n",
       "      <td>1</td>\n",
       "      <td>No</td>\n",
       "      <td>...</td>\n",
       "      <td>1</td>\n",
       "      <td>25.1</td>\n",
       "      <td>25.1</td>\n",
       "      <td>Yes</td>\n",
       "      <td>1</td>\n",
       "      <td>Month-to-month</td>\n",
       "      <td>1</td>\n",
       "      <td>DSL</td>\n",
       "      <td>1</td>\n",
       "      <td>Electronic check</td>\n",
       "    </tr>\n",
       "    <tr>\n",
       "      <th>4</th>\n",
       "      <td>0032-PGELS</td>\n",
       "      <td>0</td>\n",
       "      <td>0</td>\n",
       "      <td>1</td>\n",
       "      <td>1</td>\n",
       "      <td>1</td>\n",
       "      <td>0</td>\n",
       "      <td>No phone service</td>\n",
       "      <td>1</td>\n",
       "      <td>Yes</td>\n",
       "      <td>...</td>\n",
       "      <td>3</td>\n",
       "      <td>30.5</td>\n",
       "      <td>30.5</td>\n",
       "      <td>Yes</td>\n",
       "      <td>1</td>\n",
       "      <td>Month-to-month</td>\n",
       "      <td>1</td>\n",
       "      <td>DSL</td>\n",
       "      <td>3</td>\n",
       "      <td>Bank transfer (automatic)</td>\n",
       "    </tr>\n",
       "  </tbody>\n",
       "</table>\n",
       "<p>5 rows × 27 columns</p>\n",
       "</div>"
      ],
      "text/plain": [
       "  customer_id  male  senior_citizen  partners  dependents  tenure  \\\n",
       "0  0003-MKNFE     1               0         0           0       9   \n",
       "1  0013-MHZWF     0               0         0           1       9   \n",
       "2  0015-UOCOJ     0               1         0           0       7   \n",
       "3  0023-HGHWL     1               1         0           0       1   \n",
       "4  0032-PGELS     0               0         1           1       1   \n",
       "\n",
       "   phone_service    multiple_lines internet_service_type_id online_security  \\\n",
       "0              1               Yes                        1              No   \n",
       "1              1                No                        1              No   \n",
       "2              1                No                        1             Yes   \n",
       "3              0  No phone service                        1              No   \n",
       "4              0  No phone service                        1             Yes   \n",
       "\n",
       "   ...  payment_type_id monthly_charges total_charges churn contract_type_id  \\\n",
       "0  ...                2            59.9         542.4    No                1   \n",
       "1  ...                4            69.4        571.45    No                1   \n",
       "2  ...                1            48.2        340.35    No                1   \n",
       "3  ...                1            25.1          25.1   Yes                1   \n",
       "4  ...                3            30.5          30.5   Yes                1   \n",
       "\n",
       "    contract_type internet_service_type_id  internet_service_type  \\\n",
       "0  Month-to-month                        1                    DSL   \n",
       "1  Month-to-month                        1                    DSL   \n",
       "2  Month-to-month                        1                    DSL   \n",
       "3  Month-to-month                        1                    DSL   \n",
       "4  Month-to-month                        1                    DSL   \n",
       "\n",
       "   payment_type_id               payment_type  \n",
       "0                2               Mailed check  \n",
       "1                4    Credit card (automatic)  \n",
       "2                1           Electronic check  \n",
       "3                1           Electronic check  \n",
       "4                3  Bank transfer (automatic)  \n",
       "\n",
       "[5 rows x 27 columns]"
      ]
     },
     "execution_count": 11,
     "metadata": {},
     "output_type": "execute_result"
    }
   ],
   "source": [
    "# phone_service column to read yes/no 1/0.\n",
    "df['phone_service'] = df['phone_service'].replace(\"Yes\", 1)\n",
    "df['phone_service'] = df['phone_service'].replace(\"No\", 0)\n",
    "df.head()"
   ]
  },
  {
   "cell_type": "code",
   "execution_count": 12,
   "metadata": {},
   "outputs": [
    {
     "data": {
      "text/plain": [
       "0    4072\n",
       "1    2971\n",
       "Name: multiple_lines, dtype: int64"
      ]
     },
     "execution_count": 12,
     "metadata": {},
     "output_type": "execute_result"
    }
   ],
   "source": [
    "# multiple_lines adding no phone service as no for multiple lines\n",
    "df[\"multiple_lines\"] = df[\"multiple_lines\"].replace(\"No phone service\", \"No\")\n",
    "# Now making into yes/no 1/0\n",
    "df.multiple_lines = df.multiple_lines.replace(\"Yes\", 1)\n",
    "df.multiple_lines = df.multiple_lines.replace(\"No\", 0)\n",
    "df.multiple_lines.value_counts()"
   ]
  },
  {
   "cell_type": "code",
   "execution_count": 13,
   "metadata": {},
   "outputs": [
    {
     "data": {
      "text/plain": [
       "0    5024\n",
       "1    2019\n",
       "Name: online_security, dtype: int64"
      ]
     },
     "execution_count": 13,
     "metadata": {},
     "output_type": "execute_result"
    }
   ],
   "source": [
    "# Had to convert No internet service to No, then online_security into yes/no 1/0.\n",
    "df[\"online_security\"] = df[\"online_security\"].replace(\"No internet service\", \"No\")\n",
    "df.online_security = df.online_security.replace(\"Yes\", 1)\n",
    "df.online_security = df.online_security.replace(\"No\", 0)\n",
    "df.online_security.value_counts()"
   ]
  },
  {
   "cell_type": "code",
   "execution_count": 14,
   "metadata": {},
   "outputs": [
    {
     "name": "stdout",
     "output_type": "stream",
     "text": [
      "6291    18.25\n",
      "7030    18.40\n",
      "6455    18.55\n",
      "6443    18.70\n",
      "7037    18.70\n",
      "Name: monthly_charges, dtype: float64\n",
      "4993    118.35\n",
      "5333    118.60\n",
      "4870    118.60\n",
      "5473    118.65\n",
      "5407    118.75\n",
      "Name: monthly_charges, dtype: float64\n"
     ]
    }
   ],
   "source": [
    "# Looking into the min and max charges\n",
    "print(df.monthly_charges.sort_values().head())\n",
    "print(df.monthly_charges.sort_values().tail())"
   ]
  },
  {
   "cell_type": "code",
   "execution_count": 15,
   "metadata": {},
   "outputs": [
    {
     "name": "stdout",
     "output_type": "stream",
     "text": [
      "2048          \n",
      "6143          \n",
      "1949          \n",
      "1878          \n",
      "6615          \n",
      "6686          \n",
      "6895          \n",
      "6605          \n",
      "6569          \n",
      "2029          \n",
      "2132          \n",
      "761      100.2\n",
      "3103    100.25\n",
      "6574    100.35\n",
      "963      100.4\n",
      "Name: total_charges, dtype: object\n",
      "6341    997.75\n",
      "6261     998.1\n",
      "3702    999.45\n",
      "3392     999.8\n",
      "4349     999.9\n",
      "Name: total_charges, dtype: object\n"
     ]
    }
   ],
   "source": [
    "# Looking into the min and max total charges. Max value is 999.9. Keep that in mind\n",
    "# There are 11 entries with no monthly charge. I need to see what to do with them\n",
    "print(df.total_charges.sort_values().head(15))\n",
    "print(df.total_charges.sort_values().tail())"
   ]
  },
  {
   "cell_type": "code",
   "execution_count": 16,
   "metadata": {},
   "outputs": [
    {
     "name": "stdout",
     "output_type": "stream",
     "text": [
      "2132     0.00\n",
      "6615     0.00\n",
      "6605     0.00\n",
      "6569     0.00\n",
      "6143     0.00\n",
      "6686     0.00\n",
      "6895     0.00\n",
      "2048     0.00\n",
      "2029     0.00\n",
      "1949     0.00\n",
      "1878     0.00\n",
      "6145    18.80\n",
      "6010    18.85\n",
      "5989    18.85\n",
      "6039    18.90\n",
      "Name: total_charges, dtype: float64\n",
      "5314    8443.70\n",
      "5090    8456.75\n",
      "5269    8468.20\n",
      "5335    8476.50\n",
      "5473    8477.60\n",
      "5154    8477.70\n",
      "5095    8496.70\n",
      "5364    8529.50\n",
      "5115    8543.25\n",
      "5512    8547.15\n",
      "5466    8564.75\n",
      "5506    8594.40\n",
      "5503    8670.10\n",
      "5407    8672.45\n",
      "4710    8684.80\n",
      "Name: total_charges, dtype: float64\n"
     ]
    }
   ],
   "source": [
    "# Going to make $0 to retain them\n",
    "df.total_charges = df.total_charges.where((df.tenure != 0), 0)\n",
    "# Was getting error as the 0 values where inputed as strings. Changed them to floats\n",
    "df['total_charges'] = df.total_charges.astype(float)\n",
    "df.total_charges.min()\n",
    "print(df.total_charges.sort_values().head(15))\n",
    "print(df.total_charges.sort_values().tail(15))"
   ]
  },
  {
   "cell_type": "code",
   "execution_count": 17,
   "metadata": {},
   "outputs": [
    {
     "data": {
      "text/plain": [
       "0    5174\n",
       "1    1869\n",
       "Name: churn, dtype: int64"
      ]
     },
     "execution_count": 17,
     "metadata": {},
     "output_type": "execute_result"
    }
   ],
   "source": [
    "# Churn into yes/no 1/0\n",
    "df.churn = df.churn.replace(\"Yes\", 1)\n",
    "df.churn = df.churn.replace(\"No\", 0)\n",
    "df.churn.value_counts()"
   ]
  },
  {
   "cell_type": "code",
   "execution_count": 18,
   "metadata": {},
   "outputs": [
    {
     "data": {
      "text/html": [
       "<div>\n",
       "<style scoped>\n",
       "    .dataframe tbody tr th:only-of-type {\n",
       "        vertical-align: middle;\n",
       "    }\n",
       "\n",
       "    .dataframe tbody tr th {\n",
       "        vertical-align: top;\n",
       "    }\n",
       "\n",
       "    .dataframe thead th {\n",
       "        text-align: right;\n",
       "    }\n",
       "</style>\n",
       "<table border=\"1\" class=\"dataframe\">\n",
       "  <thead>\n",
       "    <tr style=\"text-align: right;\">\n",
       "      <th></th>\n",
       "      <th>customer_id</th>\n",
       "      <th>male</th>\n",
       "      <th>senior_citizen</th>\n",
       "      <th>partners</th>\n",
       "      <th>dependents</th>\n",
       "      <th>tenure</th>\n",
       "      <th>phone_service</th>\n",
       "      <th>multiple_lines</th>\n",
       "      <th>internet_service_type_id</th>\n",
       "      <th>online_security</th>\n",
       "      <th>...</th>\n",
       "      <th>paperless_billing</th>\n",
       "      <th>payment_type_id</th>\n",
       "      <th>monthly_charges</th>\n",
       "      <th>total_charges</th>\n",
       "      <th>churn</th>\n",
       "      <th>contract_type</th>\n",
       "      <th>internet_service_type_id</th>\n",
       "      <th>internet_service_type</th>\n",
       "      <th>payment_type_id</th>\n",
       "      <th>payment_type</th>\n",
       "    </tr>\n",
       "  </thead>\n",
       "  <tbody>\n",
       "    <tr>\n",
       "      <th>0</th>\n",
       "      <td>0003-MKNFE</td>\n",
       "      <td>1</td>\n",
       "      <td>0</td>\n",
       "      <td>0</td>\n",
       "      <td>0</td>\n",
       "      <td>9</td>\n",
       "      <td>1</td>\n",
       "      <td>1</td>\n",
       "      <td>1</td>\n",
       "      <td>0</td>\n",
       "      <td>...</td>\n",
       "      <td>No</td>\n",
       "      <td>2</td>\n",
       "      <td>59.9</td>\n",
       "      <td>542.4</td>\n",
       "      <td>0</td>\n",
       "      <td>1</td>\n",
       "      <td>1</td>\n",
       "      <td>DSL</td>\n",
       "      <td>2</td>\n",
       "      <td>Mailed check</td>\n",
       "    </tr>\n",
       "  </tbody>\n",
       "</table>\n",
       "<p>1 rows × 26 columns</p>\n",
       "</div>"
      ],
      "text/plain": [
       "  customer_id  male  senior_citizen  partners  dependents  tenure  \\\n",
       "0  0003-MKNFE     1               0         0           0       9   \n",
       "\n",
       "   phone_service  multiple_lines internet_service_type_id  online_security  \\\n",
       "0              1               1                        1                0   \n",
       "\n",
       "   ... paperless_billing  payment_type_id monthly_charges total_charges churn  \\\n",
       "0  ...                No                2            59.9         542.4     0   \n",
       "\n",
       "   contract_type internet_service_type_id  internet_service_type  \\\n",
       "0              1                        1                    DSL   \n",
       "\n",
       "   payment_type_id  payment_type  \n",
       "0                2  Mailed check  \n",
       "\n",
       "[1 rows x 26 columns]"
      ]
     },
     "execution_count": 18,
     "metadata": {},
     "output_type": "execute_result"
    }
   ],
   "source": [
    "# Dropping cotract_type and renaming contract_type_id to cotract_type. 1 = Month-to-Month, 2 = 1 yr, 3 = 2 yr\n",
    "df = df.drop(\"contract_type\", axis=1)\n",
    "df = df.rename(columns={'contract_type_id':'contract_type'})\n",
    "df.head(1)"
   ]
  },
  {
   "cell_type": "code",
   "execution_count": 19,
   "metadata": {},
   "outputs": [
    {
     "data": {
      "text/plain": [
       "Fiber optic    3096\n",
       "DSL            2421\n",
       "None           1526\n",
       "Name: internet_service_type, dtype: int64"
      ]
     },
     "execution_count": 19,
     "metadata": {},
     "output_type": "execute_result"
    }
   ],
   "source": [
    "# Looking at the value counts of the internet_service_types\n",
    "df.internet_service_type.value_counts()"
   ]
  },
  {
   "cell_type": "code",
   "execution_count": 20,
   "metadata": {},
   "outputs": [],
   "source": [
    "# Dropping internet_service_type \n",
    "df = df.drop(\"internet_service_type\", axis=1)"
   ]
  },
  {
   "cell_type": "code",
   "execution_count": 21,
   "metadata": {},
   "outputs": [],
   "source": [
    "# Renaming internet_service_type_id to internet_service_type. ***************\n",
    "# 1 = DSL, 2 = Fiber Optic yr, 3 = None ***************\n",
    "df = df.rename(columns={'internet_service_type_id':'internet_service_type'})"
   ]
  },
  {
   "cell_type": "code",
   "execution_count": 22,
   "metadata": {},
   "outputs": [
    {
     "name": "stdout",
     "output_type": "stream",
     "text": [
      "<class 'pandas.core.frame.DataFrame'>\n",
      "Int64Index: 7043 entries, 0 to 7042\n",
      "Data columns (total 25 columns):\n",
      " #   Column                 Non-Null Count  Dtype  \n",
      "---  ------                 --------------  -----  \n",
      " 0   customer_id            7043 non-null   object \n",
      " 1   male                   7043 non-null   int64  \n",
      " 2   senior_citizen         7043 non-null   int64  \n",
      " 3   partners               7043 non-null   int64  \n",
      " 4   dependents             7043 non-null   int64  \n",
      " 5   tenure                 7043 non-null   int64  \n",
      " 6   phone_service          7043 non-null   int64  \n",
      " 7   multiple_lines         7043 non-null   int64  \n",
      " 8   internet_service_type  7043 non-null   int64  \n",
      " 9   online_security        7043 non-null   int64  \n",
      " 10  online_backup          7043 non-null   object \n",
      " 11  device_protection      7043 non-null   object \n",
      " 12  tech_support           7043 non-null   object \n",
      " 13  streaming_tv           7043 non-null   object \n",
      " 14  streaming_movies       7043 non-null   object \n",
      " 15  contract_type          7043 non-null   int64  \n",
      " 16  paperless_billing      7043 non-null   object \n",
      " 17  payment_type_id        7043 non-null   int64  \n",
      " 18  monthly_charges        7043 non-null   float64\n",
      " 19  total_charges          7043 non-null   float64\n",
      " 20  churn                  7043 non-null   int64  \n",
      " 21  contract_type          7043 non-null   int64  \n",
      " 22  internet_service_type  7043 non-null   int64  \n",
      " 23  payment_type_id        7043 non-null   int64  \n",
      " 24  payment_type           7043 non-null   object \n",
      "dtypes: float64(2), int64(15), object(8)\n",
      "memory usage: 1.4+ MB\n"
     ]
    }
   ],
   "source": [
    "df.info()"
   ]
  },
  {
   "cell_type": "code",
   "execution_count": 23,
   "metadata": {},
   "outputs": [],
   "source": [
    "# Going to add other_services column. It will contain online_security = 1, online_backup = 2, \n",
    "# device_protection = 3, tech_support = 4, streaming_tv = 5, streaming_movies = 6\n",
    "#other_services = pd.DataFrame({\"col1\": [\"online_security\", \"online_backup\", \"device_protection\", \"tech_support\", \"streaming_tv\", \"streaming_movies\"], \"other_services\": [1,2,3,4,5,6]})\n",
    "#other_services"
   ]
  },
  {
   "cell_type": "code",
   "execution_count": 24,
   "metadata": {},
   "outputs": [],
   "source": [
    "# Concatinating both dataframes\n",
    "#df = pd.concat([df, other_services], axis=1)\n",
    "#df.head()"
   ]
  },
  {
   "cell_type": "code",
   "execution_count": 25,
   "metadata": {},
   "outputs": [],
   "source": [
    "# Dropping online_security, online_backup, device_protection, tech_support, streaming_tv, streaming_movies, col1\n",
    "#df = df.drop([\"online_security\", \"online_backup\", \"device_protection\", \"tech_support\", \"streaming_tv\", \"streaming_movies\", \"col1\"], axis=1)\n",
    "#df.head()"
   ]
  },
  {
   "cell_type": "code",
   "execution_count": 26,
   "metadata": {},
   "outputs": [
    {
     "data": {
      "text/html": [
       "<div>\n",
       "<style scoped>\n",
       "    .dataframe tbody tr th:only-of-type {\n",
       "        vertical-align: middle;\n",
       "    }\n",
       "\n",
       "    .dataframe tbody tr th {\n",
       "        vertical-align: top;\n",
       "    }\n",
       "\n",
       "    .dataframe thead th {\n",
       "        text-align: right;\n",
       "    }\n",
       "</style>\n",
       "<table border=\"1\" class=\"dataframe\">\n",
       "  <thead>\n",
       "    <tr style=\"text-align: right;\">\n",
       "      <th></th>\n",
       "      <th>customer_id</th>\n",
       "      <th>male</th>\n",
       "      <th>senior_citizen</th>\n",
       "      <th>partners</th>\n",
       "      <th>dependents</th>\n",
       "      <th>tenure</th>\n",
       "      <th>phone_service</th>\n",
       "      <th>multiple_lines</th>\n",
       "      <th>internet_service_type</th>\n",
       "      <th>online_security</th>\n",
       "      <th>...</th>\n",
       "      <th>contract_type</th>\n",
       "      <th>paperless_billing</th>\n",
       "      <th>payment_type_id</th>\n",
       "      <th>monthly_charges</th>\n",
       "      <th>total_charges</th>\n",
       "      <th>churn</th>\n",
       "      <th>contract_type</th>\n",
       "      <th>internet_service_type</th>\n",
       "      <th>payment_type_id</th>\n",
       "      <th>payment_type</th>\n",
       "    </tr>\n",
       "  </thead>\n",
       "  <tbody>\n",
       "    <tr>\n",
       "      <th>0</th>\n",
       "      <td>0003-MKNFE</td>\n",
       "      <td>1</td>\n",
       "      <td>0</td>\n",
       "      <td>0</td>\n",
       "      <td>0</td>\n",
       "      <td>9</td>\n",
       "      <td>1</td>\n",
       "      <td>1</td>\n",
       "      <td>1</td>\n",
       "      <td>0</td>\n",
       "      <td>...</td>\n",
       "      <td>1</td>\n",
       "      <td>0</td>\n",
       "      <td>2</td>\n",
       "      <td>59.9</td>\n",
       "      <td>542.4</td>\n",
       "      <td>0</td>\n",
       "      <td>1</td>\n",
       "      <td>1</td>\n",
       "      <td>2</td>\n",
       "      <td>Mailed check</td>\n",
       "    </tr>\n",
       "  </tbody>\n",
       "</table>\n",
       "<p>1 rows × 25 columns</p>\n",
       "</div>"
      ],
      "text/plain": [
       "  customer_id  male  senior_citizen  partners  dependents  tenure  \\\n",
       "0  0003-MKNFE     1               0         0           0       9   \n",
       "\n",
       "   phone_service  multiple_lines  internet_service_type  online_security  ...  \\\n",
       "0              1               1                      1                0  ...   \n",
       "\n",
       "   contract_type paperless_billing  payment_type_id monthly_charges  \\\n",
       "0              1                 0                2            59.9   \n",
       "\n",
       "  total_charges  churn  contract_type  internet_service_type  payment_type_id  \\\n",
       "0         542.4      0              1                      1                2   \n",
       "\n",
       "   payment_type  \n",
       "0  Mailed check  \n",
       "\n",
       "[1 rows x 25 columns]"
      ]
     },
     "execution_count": 26,
     "metadata": {},
     "output_type": "execute_result"
    }
   ],
   "source": [
    "# paperless_billing into yes/no 1/0\n",
    "df.paperless_billing = df.paperless_billing.replace(\"Yes\", 1)\n",
    "df.paperless_billing = df.paperless_billing.replace(\"No\", 0)\n",
    "df.head(1)"
   ]
  },
  {
   "cell_type": "code",
   "execution_count": 34,
   "metadata": {},
   "outputs": [
    {
     "data": {
      "text/plain": [
       "<matplotlib.axes._subplots.AxesSubplot at 0x7fcbc0d8d990>"
      ]
     },
     "execution_count": 34,
     "metadata": {},
     "output_type": "execute_result"
    },
    {
     "data": {
      "image/png": "[encoded data removed]",
      "text/plain": [
       "<Figure size 432x288 with 1 Axes>"
      ]
     },
     "metadata": {
      "needs_background": "light"
     },
     "output_type": "display_data"
    }
   ],
   "source": [
    "df[\"paperless_billing\"].hist()"
   ]
  },
  {
   "cell_type": "code",
   "execution_count": 35,
   "metadata": {},
   "outputs": [
    {
     "data": {
      "text/html": [
       "<div>\n",
       "<style scoped>\n",
       "    .dataframe tbody tr th:only-of-type {\n",
       "        vertical-align: middle;\n",
       "    }\n",
       "\n",
       "    .dataframe tbody tr th {\n",
       "        vertical-align: top;\n",
       "    }\n",
       "\n",
       "    .dataframe thead th {\n",
       "        text-align: right;\n",
       "    }\n",
       "</style>\n",
       "<table border=\"1\" class=\"dataframe\">\n",
       "  <thead>\n",
       "    <tr style=\"text-align: right;\">\n",
       "      <th></th>\n",
       "      <th>customer_id</th>\n",
       "      <th>male</th>\n",
       "      <th>senior_citizen</th>\n",
       "      <th>partners</th>\n",
       "      <th>dependents</th>\n",
       "      <th>tenure</th>\n",
       "      <th>phone_service</th>\n",
       "      <th>multiple_lines</th>\n",
       "      <th>internet_service_type</th>\n",
       "      <th>online_security</th>\n",
       "      <th>...</th>\n",
       "      <th>contract_type</th>\n",
       "      <th>paperless_billing</th>\n",
       "      <th>payment_type_id</th>\n",
       "      <th>monthly_charges</th>\n",
       "      <th>total_charges</th>\n",
       "      <th>churn</th>\n",
       "      <th>contract_type</th>\n",
       "      <th>internet_service_type</th>\n",
       "      <th>payment_type_id</th>\n",
       "      <th>payment_type</th>\n",
       "    </tr>\n",
       "  </thead>\n",
       "  <tbody>\n",
       "    <tr>\n",
       "      <th>0</th>\n",
       "      <td>0003-MKNFE</td>\n",
       "      <td>1</td>\n",
       "      <td>0</td>\n",
       "      <td>0</td>\n",
       "      <td>0</td>\n",
       "      <td>9</td>\n",
       "      <td>1</td>\n",
       "      <td>1</td>\n",
       "      <td>1</td>\n",
       "      <td>0</td>\n",
       "      <td>...</td>\n",
       "      <td>1</td>\n",
       "      <td>0</td>\n",
       "      <td>2</td>\n",
       "      <td>59.9</td>\n",
       "      <td>542.4</td>\n",
       "      <td>0</td>\n",
       "      <td>1</td>\n",
       "      <td>1</td>\n",
       "      <td>2</td>\n",
       "      <td>Mailed check</td>\n",
       "    </tr>\n",
       "  </tbody>\n",
       "</table>\n",
       "<p>1 rows × 25 columns</p>\n",
       "</div>"
      ],
      "text/plain": [
       "  customer_id  male  senior_citizen  partners  dependents  tenure  \\\n",
       "0  0003-MKNFE     1               0         0           0       9   \n",
       "\n",
       "   phone_service  multiple_lines  internet_service_type  online_security  ...  \\\n",
       "0              1               1                      1                0  ...   \n",
       "\n",
       "   contract_type paperless_billing  payment_type_id monthly_charges  \\\n",
       "0              1                 0                2            59.9   \n",
       "\n",
       "  total_charges  churn  contract_type  internet_service_type  payment_type_id  \\\n",
       "0         542.4      0              1                      1                2   \n",
       "\n",
       "   payment_type  \n",
       "0  Mailed check  \n",
       "\n",
       "[1 rows x 25 columns]"
      ]
     },
     "execution_count": 35,
     "metadata": {},
     "output_type": "execute_result"
    }
   ],
   "source": [
    "df.head(1)"
   ]
  },
  {
   "cell_type": "code",
   "execution_count": 36,
   "metadata": {},
   "outputs": [
    {
     "data": {
      "text/plain": [
       "<matplotlib.axes._subplots.AxesSubplot at 0x7fcbc376ed90>"
      ]
     },
     "execution_count": 36,
     "metadata": {},
     "output_type": "execute_result"
    },
    {
     "data": {
      "image/png": "[encoded data removed]",
      "text/plain": [
       "<Figure size 432x288 with 1 Axes>"
      ]
     },
     "metadata": {
      "needs_background": "light"
     },
     "output_type": "display_data"
    }
   ],
   "source": [
    "df[\"payment_type\"].hist()"
   ]
  },
  {
   "cell_type": "code",
   "execution_count": 37,
   "metadata": {},
   "outputs": [
    {
     "data": {
      "text/plain": [
       "<matplotlib.axes._subplots.AxesSubplot at 0x7fcbc3020510>"
      ]
     },
     "execution_count": 37,
     "metadata": {},
     "output_type": "execute_result"
    },
    {
     "data": {
      "image/png": "[encoded data removed]",
      "text/plain": [
       "<Figure size 432x288 with 1 Axes>"
      ]
     },
     "metadata": {
      "needs_background": "light"
     },
     "output_type": "display_data"
    }
   ],
   "source": [
    "df[\"dependents\"].hist()"
   ]
  },
  {
   "cell_type": "code",
   "execution_count": 38,
   "metadata": {},
   "outputs": [
    {
     "name": "stdout",
     "output_type": "stream",
     "text": [
      "On branch master\r\n",
      "Your branch is up to date with 'origin/master'.\r\n",
      "\r\n",
      "Changes not staged for commit:\r\n",
      "  (use \"git add <file>...\" to update what will be committed)\r\n",
      "  (use \"git restore <file>...\" to discard changes in working directory)\r\n",
      "\t\u001b[31mmodified:   telco_data_cleaning.ipynb\u001b[m\r\n",
      "\r\n",
      "no changes added to commit (use \"git add\" and/or \"git commit -a\")\r\n"
     ]
    }
   ],
   "source": [
    "!git status"
   ]
  },
  {
   "cell_type": "code",
   "execution_count": 39,
   "metadata": {},
   "outputs": [],
   "source": [
    "!git add -A "
   ]
  },
  {
   "cell_type": "code",
   "execution_count": 31,
   "metadata": {},
   "outputs": [],
   "source": [
    "!git commit -m \"Adding my prepare file and edited data cleaning file\""
   ]
  },
  {
   "cell_type": "code",
   "execution_count": 32,
   "metadata": {},
   "outputs": [],
   "source": [
    "#!git push"
   ]
  },
  {
   "cell_type": "code",
   "execution_count": null,
   "metadata": {},
   "outputs": [],
   "source": []
  },
  {
   "cell_type": "code",
   "execution_count": null,
   "metadata": {},
   "outputs": [],
   "source": []
  },
  {
   "cell_type": "code",
   "execution_count": null,
   "metadata": {},
   "outputs": [],
   "source": []
  },
  {
   "cell_type": "code",
   "execution_count": null,
   "metadata": {},
   "outputs": [],
   "source": []
  },
  {
   "cell_type": "code",
   "execution_count": null,
   "metadata": {},
   "outputs": [],
   "source": []
  },
  {
   "cell_type": "code",
   "execution_count": null,
   "metadata": {},
   "outputs": [],
   "source": []
  },
  {
   "cell_type": "code",
   "execution_count": null,
   "metadata": {},
   "outputs": [],
   "source": []
  },
  {
   "cell_type": "code",
   "execution_count": null,
   "metadata": {},
   "outputs": [],
   "source": []
  },
  {
   "cell_type": "code",
   "execution_count": null,
   "metadata": {},
   "outputs": [],
   "source": []
  }
 ],
 "metadata": {
  "kernelspec": {
   "display_name": "Python 3",
   "language": "python",
   "name": "python3"
  },
  "language_info": {
   "codemirror_mode": {
    "name": "ipython",
    "version": 3
   },
   "file_extension": ".py",
   "mimetype": "text/x-python",
   "name": "python",
   "nbconvert_exporter": "python",
   "pygments_lexer": "ipython3",
   "version": "3.7.6"
  }
 },
 "nbformat": 4,
 "nbformat_minor": 4
}
